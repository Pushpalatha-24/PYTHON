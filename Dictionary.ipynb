{
 "cells": [
  {
   "cell_type": "raw",
   "id": "63db0077",
   "metadata": {},
   "source": [
    "len()\n",
    "add()\n",
    "replace()\n",
    "delete/pop()\n",
    "del()"
   ]
  },
  {
   "cell_type": "code",
   "execution_count": 1,
   "id": "c45b0f9e",
   "metadata": {},
   "outputs": [],
   "source": [
    "student={'pushpa':45,'latha':64,'sri':90,'kammari':56,'raj':65}"
   ]
  },
  {
   "cell_type": "code",
   "execution_count": 2,
   "id": "3ab8bfba",
   "metadata": {},
   "outputs": [
    {
     "data": {
      "text/plain": [
       "{'pushpa': 45, 'latha': 64, 'sri': 90, 'kammari': 56, 'raj': 65}"
      ]
     },
     "execution_count": 2,
     "metadata": {},
     "output_type": "execute_result"
    }
   ],
   "source": [
    "student"
   ]
  },
  {
   "cell_type": "code",
   "execution_count": 3,
   "id": "6c196abd",
   "metadata": {},
   "outputs": [
    {
     "data": {
      "text/plain": [
       "dict"
      ]
     },
     "execution_count": 3,
     "metadata": {},
     "output_type": "execute_result"
    }
   ],
   "source": [
    "type(student)"
   ]
  },
  {
   "cell_type": "code",
   "execution_count": 4,
   "id": "f1bbe486",
   "metadata": {},
   "outputs": [
    {
     "data": {
      "text/plain": [
       "5"
      ]
     },
     "execution_count": 4,
     "metadata": {},
     "output_type": "execute_result"
    }
   ],
   "source": [
    "len(student)"
   ]
  },
  {
   "cell_type": "code",
   "execution_count": 5,
   "id": "80671097",
   "metadata": {},
   "outputs": [],
   "source": [
    "#add\n",
    "student['urvi']=100"
   ]
  },
  {
   "cell_type": "code",
   "execution_count": 6,
   "id": "562e238f",
   "metadata": {},
   "outputs": [
    {
     "data": {
      "text/plain": [
       "{'pushpa': 45, 'latha': 64, 'sri': 90, 'kammari': 56, 'raj': 65, 'urvi': 100}"
      ]
     },
     "execution_count": 6,
     "metadata": {},
     "output_type": "execute_result"
    }
   ],
   "source": [
    "student"
   ]
  },
  {
   "cell_type": "code",
   "execution_count": 7,
   "id": "b53c455b",
   "metadata": {},
   "outputs": [],
   "source": [
    "#replace\n",
    "student['kammari']=20"
   ]
  },
  {
   "cell_type": "code",
   "execution_count": 8,
   "id": "e3bd8f31",
   "metadata": {},
   "outputs": [
    {
     "data": {
      "text/plain": [
       "{'pushpa': 45, 'latha': 64, 'sri': 90, 'kammari': 20, 'raj': 65, 'urvi': 100}"
      ]
     },
     "execution_count": 8,
     "metadata": {},
     "output_type": "execute_result"
    }
   ],
   "source": [
    "student"
   ]
  },
  {
   "cell_type": "code",
   "execution_count": 9,
   "id": "83870e0c",
   "metadata": {},
   "outputs": [
    {
     "data": {
      "text/plain": [
       "20"
      ]
     },
     "execution_count": 9,
     "metadata": {},
     "output_type": "execute_result"
    }
   ],
   "source": [
    "student.pop('kammari')"
   ]
  },
  {
   "cell_type": "code",
   "execution_count": 10,
   "id": "8d47f874",
   "metadata": {},
   "outputs": [
    {
     "data": {
      "text/plain": [
       "{'pushpa': 45, 'latha': 64, 'sri': 90, 'raj': 65, 'urvi': 100}"
      ]
     },
     "execution_count": 10,
     "metadata": {},
     "output_type": "execute_result"
    }
   ],
   "source": [
    "student"
   ]
  },
  {
   "cell_type": "code",
   "execution_count": 11,
   "id": "d0bcf6c8",
   "metadata": {},
   "outputs": [],
   "source": [
    "del student['latha']"
   ]
  },
  {
   "cell_type": "code",
   "execution_count": 12,
   "id": "1ed79368",
   "metadata": {},
   "outputs": [
    {
     "data": {
      "text/plain": [
       "{'pushpa': 45, 'sri': 90, 'raj': 65, 'urvi': 100}"
      ]
     },
     "execution_count": 12,
     "metadata": {},
     "output_type": "execute_result"
    }
   ],
   "source": [
    "student"
   ]
  },
  {
   "cell_type": "code",
   "execution_count": 13,
   "id": "6c688d2d",
   "metadata": {},
   "outputs": [],
   "source": [
    "del student"
   ]
  },
  {
   "cell_type": "code",
   "execution_count": 14,
   "id": "d808f582",
   "metadata": {},
   "outputs": [
    {
     "ename": "NameError",
     "evalue": "name 'student' is not defined",
     "output_type": "error",
     "traceback": [
      "\u001b[1;31m---------------------------------------------------------------------------\u001b[0m",
      "\u001b[1;31mNameError\u001b[0m                                 Traceback (most recent call last)",
      "Cell \u001b[1;32mIn[14], line 1\u001b[0m\n\u001b[1;32m----> 1\u001b[0m student\n",
      "\u001b[1;31mNameError\u001b[0m: name 'student' is not defined"
     ]
    }
   ],
   "source": [
    "student"
   ]
  },
  {
   "cell_type": "markdown",
   "id": "a069755c",
   "metadata": {},
   "source": [
    "### Student Details"
   ]
  },
  {
   "cell_type": "code",
   "execution_count": 15,
   "id": "ed80a138",
   "metadata": {},
   "outputs": [],
   "source": [
    "student={'id':[11,22,33,44,55],'name':['sri','pushpa','latha','kammari','raj'],'branch':['cse','bsc','ece','eee','bcom'],'grades':['A','A+','B','B+','C']}"
   ]
  },
  {
   "cell_type": "code",
   "execution_count": 16,
   "id": "8c0c622f",
   "metadata": {},
   "outputs": [
    {
     "data": {
      "text/plain": [
       "{'id': [11, 22, 33, 44, 55],\n",
       " 'name': ['sri', 'pushpa', 'latha', 'kammari', 'raj'],\n",
       " 'branch': ['cse', 'bsc', 'ece', 'eee', 'bcom'],\n",
       " 'grades': ['A', 'A+', 'B', 'B+', 'C']}"
      ]
     },
     "execution_count": 16,
     "metadata": {},
     "output_type": "execute_result"
    }
   ],
   "source": [
    "student"
   ]
  },
  {
   "cell_type": "code",
   "execution_count": 17,
   "id": "007f65e7",
   "metadata": {},
   "outputs": [
    {
     "data": {
      "text/plain": [
       "dict"
      ]
     },
     "execution_count": 17,
     "metadata": {},
     "output_type": "execute_result"
    }
   ],
   "source": [
    "type(student)"
   ]
  },
  {
   "cell_type": "code",
   "execution_count": 18,
   "id": "ab5101b5",
   "metadata": {},
   "outputs": [
    {
     "data": {
      "text/plain": [
       "['A', 'A+', 'B', 'B+', 'C']"
      ]
     },
     "execution_count": 18,
     "metadata": {},
     "output_type": "execute_result"
    }
   ],
   "source": [
    "student['grades']"
   ]
  },
  {
   "cell_type": "code",
   "execution_count": 19,
   "id": "0676eae5",
   "metadata": {},
   "outputs": [
    {
     "data": {
      "text/plain": [
       "['cse', 'bsc', 'ece', 'eee', 'bcom']"
      ]
     },
     "execution_count": 19,
     "metadata": {},
     "output_type": "execute_result"
    }
   ],
   "source": [
    "student['branch']"
   ]
  },
  {
   "cell_type": "code",
   "execution_count": 20,
   "id": "70e9c8de",
   "metadata": {},
   "outputs": [
    {
     "data": {
      "text/plain": [
       "'latha'"
      ]
     },
     "execution_count": 20,
     "metadata": {},
     "output_type": "execute_result"
    }
   ],
   "source": [
    "student['name'][2]"
   ]
  },
  {
   "cell_type": "code",
   "execution_count": 21,
   "id": "5464fa13",
   "metadata": {},
   "outputs": [],
   "source": [
    "#adding new key values\n",
    "student['address']=['Bengaluru','Hyderabad','kurnool','Tirupati','pune']"
   ]
  },
  {
   "cell_type": "code",
   "execution_count": 22,
   "id": "f5ed7d95",
   "metadata": {},
   "outputs": [
    {
     "data": {
      "text/plain": [
       "{'id': [11, 22, 33, 44, 55],\n",
       " 'name': ['sri', 'pushpa', 'latha', 'kammari', 'raj'],\n",
       " 'branch': ['cse', 'bsc', 'ece', 'eee', 'bcom'],\n",
       " 'grades': ['A', 'A+', 'B', 'B+', 'C'],\n",
       " 'address': ['Bengaluru', 'Hyderabad', 'kurnool', 'Tirupati', 'pune']}"
      ]
     },
     "execution_count": 22,
     "metadata": {},
     "output_type": "execute_result"
    }
   ],
   "source": [
    "student"
   ]
  },
  {
   "cell_type": "code",
   "execution_count": 23,
   "id": "417bea20",
   "metadata": {},
   "outputs": [],
   "source": [
    "#replacing address\n",
    "student['address']=['Tirupati','Ayodhya','Varanasi','kedarnath','srisailam']"
   ]
  },
  {
   "cell_type": "code",
   "execution_count": 24,
   "id": "94c8bffa",
   "metadata": {},
   "outputs": [
    {
     "data": {
      "text/plain": [
       "{'id': [11, 22, 33, 44, 55],\n",
       " 'name': ['sri', 'pushpa', 'latha', 'kammari', 'raj'],\n",
       " 'branch': ['cse', 'bsc', 'ece', 'eee', 'bcom'],\n",
       " 'grades': ['A', 'A+', 'B', 'B+', 'C'],\n",
       " 'address': ['Tirupati', 'Ayodhya', 'Varanasi', 'kedarnath', 'srisailam']}"
      ]
     },
     "execution_count": 24,
     "metadata": {},
     "output_type": "execute_result"
    }
   ],
   "source": [
    "student"
   ]
  },
  {
   "cell_type": "code",
   "execution_count": 25,
   "id": "978b31ec",
   "metadata": {},
   "outputs": [
    {
     "data": {
      "text/plain": [
       "['cse', 'bsc', 'ece', 'eee', 'bcom']"
      ]
     },
     "execution_count": 25,
     "metadata": {},
     "output_type": "execute_result"
    }
   ],
   "source": [
    "student.get('branch','key not found')"
   ]
  },
  {
   "cell_type": "code",
   "execution_count": 26,
   "id": "8b3af689",
   "metadata": {},
   "outputs": [],
   "source": [
    "#asdd one element inside the value\n",
    "student['id'].append(66)"
   ]
  },
  {
   "cell_type": "code",
   "execution_count": 27,
   "id": "2aa1c6d4",
   "metadata": {},
   "outputs": [
    {
     "data": {
      "text/plain": [
       "{'id': [11, 22, 33, 44, 55, 66],\n",
       " 'name': ['sri', 'pushpa', 'latha', 'kammari', 'raj'],\n",
       " 'branch': ['cse', 'bsc', 'ece', 'eee', 'bcom'],\n",
       " 'grades': ['A', 'A+', 'B', 'B+', 'C'],\n",
       " 'address': ['Tirupati', 'Ayodhya', 'Varanasi', 'kedarnath', 'srisailam']}"
      ]
     },
     "execution_count": 27,
     "metadata": {},
     "output_type": "execute_result"
    }
   ],
   "source": [
    "student"
   ]
  },
  {
   "cell_type": "code",
   "execution_count": 28,
   "id": "ada5e56a",
   "metadata": {},
   "outputs": [
    {
     "data": {
      "text/plain": [
       "{'id': [11, 22, 33, 35, 44, 55, 66],\n",
       " 'name': ['sri', 'pushpa', 'latha', 'kammari', 'raj'],\n",
       " 'branch': ['cse', 'bsc', 'ece', 'eee', 'bcom'],\n",
       " 'grades': ['A', 'A+', 'B', 'B+', 'C'],\n",
       " 'address': ['Tirupati', 'Ayodhya', 'Varanasi', 'kedarnath', 'srisailam']}"
      ]
     },
     "execution_count": 28,
     "metadata": {},
     "output_type": "execute_result"
    }
   ],
   "source": [
    "student['id'].insert(3,35)\n",
    "student"
   ]
  },
  {
   "cell_type": "code",
   "execution_count": 29,
   "id": "160da5dc",
   "metadata": {},
   "outputs": [
    {
     "data": {
      "text/plain": [
       "{'id': [11, 22, 33, 35, 44, 55, 66],\n",
       " 'name': ['sri', 'pushpa', 'latha', 'kammari', 'raj'],\n",
       " 'branch': ['cse', 'bsc', 'ece', 'eee', 'bcom'],\n",
       " 'grades': ['A', 'A+', 'B', 'B+', 'C'],\n",
       " 'address': ['Tirupati', 'Ayodhya', 'Varanasi', 'kedarnath', 'srisailam']}"
      ]
     },
     "execution_count": 29,
     "metadata": {},
     "output_type": "execute_result"
    }
   ],
   "source": [
    "student['id'].count(66)\n",
    "student"
   ]
  },
  {
   "cell_type": "code",
   "execution_count": 30,
   "id": "2631c192",
   "metadata": {},
   "outputs": [
    {
     "data": {
      "text/plain": [
       "{'id': [11, 22, 33, 35, 44, 55, 66],\n",
       " 'name': ['sri', 'pushpa', 'latha', 'kammari', 'raj', 'urvi'],\n",
       " 'branch': ['cse', 'bsc', 'ece', 'eee', 'bcom'],\n",
       " 'grades': ['A', 'A+', 'B', 'B+', 'C'],\n",
       " 'address': ['Tirupati', 'Ayodhya', 'Varanasi', 'kedarnath', 'srisailam']}"
      ]
     },
     "execution_count": 30,
     "metadata": {},
     "output_type": "execute_result"
    }
   ],
   "source": [
    "student['name'].append('urvi')\n",
    "student"
   ]
  },
  {
   "cell_type": "code",
   "execution_count": 31,
   "id": "1ab71256",
   "metadata": {},
   "outputs": [
    {
     "data": {
      "text/plain": [
       "{'id': [11, 22, 33, 35, 44, 55, 66],\n",
       " 'name': ['sri', 'pushpa', 'latha', 'kammari', 'raj', 'urvi'],\n",
       " 'branch': ['cse', 'bsc', 'ece', 'eee', 'bcom'],\n",
       " 'grades': ['A', 'A+', 'B', 'B+', 'C']}"
      ]
     },
     "execution_count": 31,
     "metadata": {},
     "output_type": "execute_result"
    }
   ],
   "source": [
    "student.pop('address')\n",
    "student"
   ]
  },
  {
   "cell_type": "code",
   "execution_count": 32,
   "id": "c57be4cf",
   "metadata": {},
   "outputs": [
    {
     "data": {
      "text/plain": [
       "{'id': [11, 22, 33, 35, 44, 55, 66],\n",
       " 'name': ['sri', 'pushpa', 'latha', 'kammari', 'raj', 'urvi'],\n",
       " 'branch': ['cse', 'bsc', 'eee', 'bcom'],\n",
       " 'grades': ['A', 'A+', 'B', 'B+', 'C']}"
      ]
     },
     "execution_count": 32,
     "metadata": {},
     "output_type": "execute_result"
    }
   ],
   "source": [
    "del student['branch'][2]\n",
    "student"
   ]
  },
  {
   "cell_type": "code",
   "execution_count": 33,
   "id": "35dece66",
   "metadata": {},
   "outputs": [],
   "source": [
    "del student"
   ]
  },
  {
   "cell_type": "code",
   "execution_count": 34,
   "id": "266cafa8",
   "metadata": {},
   "outputs": [
    {
     "ename": "NameError",
     "evalue": "name 'student' is not defined",
     "output_type": "error",
     "traceback": [
      "\u001b[1;31m---------------------------------------------------------------------------\u001b[0m",
      "\u001b[1;31mNameError\u001b[0m                                 Traceback (most recent call last)",
      "Cell \u001b[1;32mIn[34], line 1\u001b[0m\n\u001b[1;32m----> 1\u001b[0m student\n",
      "\u001b[1;31mNameError\u001b[0m: name 'student' is not defined"
     ]
    }
   ],
   "source": [
    "student"
   ]
  },
  {
   "cell_type": "markdown",
   "id": "a2391f75",
   "metadata": {},
   "source": [
    "# Nested Dictionary"
   ]
  },
  {
   "cell_type": "markdown",
   "id": "9f38efcf",
   "metadata": {},
   "source": [
    "### Employee Details"
   ]
  },
  {
   "cell_type": "code",
   "execution_count": 36,
   "id": "ba4478f4",
   "metadata": {},
   "outputs": [
    {
     "data": {
      "text/plain": [
       "{'emp_details': {'id': 'abc123',\n",
       "  'name': 'pushpa',\n",
       "  'gender': 'female',\n",
       "  'address': 'kurnool'},\n",
       " 'job_details': {'designation': 'worker',\n",
       "  'salary': 10000,\n",
       "  'yoj': 2023,\n",
       "  'experiance': 1}}"
      ]
     },
     "execution_count": 36,
     "metadata": {},
     "output_type": "execute_result"
    }
   ],
   "source": [
    "emp={'emp_details':{'id':'abc123','name':'pushpa','gender':'female','address':'kurnool'},'job_details':{'designation':'worker','salary':10000,'yoj':2023,'experiance':1}}\n",
    "emp"
   ]
  },
  {
   "cell_type": "code",
   "execution_count": 37,
   "id": "4f1afac2",
   "metadata": {},
   "outputs": [
    {
     "data": {
      "text/plain": [
       "{'designation': 'worker', 'salary': 10000, 'yoj': 2023, 'experiance': 1}"
      ]
     },
     "execution_count": 37,
     "metadata": {},
     "output_type": "execute_result"
    }
   ],
   "source": [
    "emp['job_details']"
   ]
  },
  {
   "cell_type": "code",
   "execution_count": 39,
   "id": "ab7aa49a",
   "metadata": {},
   "outputs": [
    {
     "data": {
      "text/plain": [
       "'kurnool'"
      ]
     },
     "execution_count": 39,
     "metadata": {},
     "output_type": "execute_result"
    }
   ],
   "source": [
    "emp['emp_details']['address']"
   ]
  },
  {
   "cell_type": "code",
   "execution_count": 40,
   "id": "a674acb4",
   "metadata": {},
   "outputs": [
    {
     "data": {
      "text/plain": [
       "{'emp_details': {'id': 'abc123',\n",
       "  'name': 'pushpa',\n",
       "  'gender': 'female',\n",
       "  'address': 'kurnool'},\n",
       " 'job_details': {'designation': 'worker', 'salary': 10000, 'yoj': 2023}}"
      ]
     },
     "execution_count": 40,
     "metadata": {},
     "output_type": "execute_result"
    }
   ],
   "source": [
    "del emp['job_details']['experiance']\n",
    "emp"
   ]
  },
  {
   "cell_type": "code",
   "execution_count": 41,
   "id": "b024c713",
   "metadata": {},
   "outputs": [
    {
     "data": {
      "text/plain": [
       "{'emp_details': {'id': 'abc123',\n",
       "  'name': 'pushpa',\n",
       "  'gender': 'female',\n",
       "  'address': 'kurnool'},\n",
       " 'job_details': {'designation': 'worker', 'salary': 5000, 'yoj': 2023}}"
      ]
     },
     "execution_count": 41,
     "metadata": {},
     "output_type": "execute_result"
    }
   ],
   "source": [
    "emp['job_details']['salary']=5000\n",
    "emp"
   ]
  },
  {
   "cell_type": "code",
   "execution_count": 42,
   "id": "804aa517",
   "metadata": {},
   "outputs": [
    {
     "ename": "NameError",
     "evalue": "name 'emp' is not defined",
     "output_type": "error",
     "traceback": [
      "\u001b[1;31m---------------------------------------------------------------------------\u001b[0m",
      "\u001b[1;31mNameError\u001b[0m                                 Traceback (most recent call last)",
      "Cell \u001b[1;32mIn[42], line 2\u001b[0m\n\u001b[0;32m      1\u001b[0m \u001b[38;5;28;01mdel\u001b[39;00m emp\n\u001b[1;32m----> 2\u001b[0m emp\n",
      "\u001b[1;31mNameError\u001b[0m: name 'emp' is not defined"
     ]
    }
   ],
   "source": [
    "del emp\n",
    "emp"
   ]
  },
  {
   "cell_type": "code",
   "execution_count": null,
   "id": "efb0cbf3",
   "metadata": {},
   "outputs": [],
   "source": []
  }
 ],
 "metadata": {
  "kernelspec": {
   "display_name": "Python 3 (ipykernel)",
   "language": "python",
   "name": "python3"
  },
  "language_info": {
   "codemirror_mode": {
    "name": "ipython",
    "version": 3
   },
   "file_extension": ".py",
   "mimetype": "text/x-python",
   "name": "python",
   "nbconvert_exporter": "python",
   "pygments_lexer": "ipython3",
   "version": "3.11.5"
  }
 },
 "nbformat": 4,
 "nbformat_minor": 5
}
