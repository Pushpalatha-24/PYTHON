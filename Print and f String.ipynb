{
 "cells": [
  {
   "cell_type": "markdown",
   "id": "d9a8760c",
   "metadata": {},
   "source": [
    "# Print"
   ]
  },
  {
   "cell_type": "code",
   "execution_count": 1,
   "id": "03adc6e9",
   "metadata": {},
   "outputs": [
    {
     "name": "stdout",
     "output_type": "stream",
     "text": [
      "\n"
     ]
    }
   ],
   "source": [
    "print()"
   ]
  },
  {
   "cell_type": "code",
   "execution_count": 2,
   "id": "d6aa61a4",
   "metadata": {},
   "outputs": [
    {
     "name": "stdout",
     "output_type": "stream",
     "text": [
      "200\n"
     ]
    }
   ],
   "source": [
    "print(200)"
   ]
  },
  {
   "cell_type": "code",
   "execution_count": 3,
   "id": "1e646d85",
   "metadata": {},
   "outputs": [
    {
     "name": "stdout",
     "output_type": "stream",
     "text": [
      "python\n"
     ]
    }
   ],
   "source": [
    "print('python')"
   ]
  },
  {
   "cell_type": "code",
   "execution_count": 4,
   "id": "f2939581",
   "metadata": {},
   "outputs": [
    {
     "name": "stdout",
     "output_type": "stream",
     "text": [
      "1234\n"
     ]
    }
   ],
   "source": [
    "num=1234\n",
    "print(num)"
   ]
  },
  {
   "cell_type": "code",
   "execution_count": null,
   "id": "76866182",
   "metadata": {},
   "outputs": [],
   "source": [
    "sum=100+200\n",
    "print(\"sum is :\",sum)"
   ]
  },
  {
   "cell_type": "code",
   "execution_count": null,
   "id": "b73e5d32",
   "metadata": {},
   "outputs": [],
   "source": [
    "print(100+200)"
   ]
  },
  {
   "cell_type": "code",
   "execution_count": null,
   "id": "1fb1911a",
   "metadata": {},
   "outputs": [],
   "source": [
    "a=100\n",
    "b=200\n",
    "sum=a+b"
   ]
  },
  {
   "cell_type": "code",
   "execution_count": null,
   "id": "65dd8a95",
   "metadata": {},
   "outputs": [],
   "source": [
    "print('the value of a is :',a)"
   ]
  },
  {
   "cell_type": "code",
   "execution_count": null,
   "id": "fbe1ae63",
   "metadata": {},
   "outputs": [],
   "source": [
    "print('the value of b is :',b)"
   ]
  },
  {
   "cell_type": "code",
   "execution_count": null,
   "id": "54ef6691",
   "metadata": {},
   "outputs": [],
   "source": [
    "print('the sum of a and b is :',sum)"
   ]
  },
  {
   "cell_type": "code",
   "execution_count": null,
   "id": "f6942392",
   "metadata": {},
   "outputs": [],
   "source": [
    "print('The value of a is:',a,'\\n The value of b is:',b,'\\n The sum of a and b is:',sum)"
   ]
  },
  {
   "cell_type": "code",
   "execution_count": null,
   "id": "5a0ac0f7",
   "metadata": {},
   "outputs": [],
   "source": [
    "print('The value of a is:',a,'\\t The value of b is:',b,'\\t The sum of a and b is:',sum)"
   ]
  },
  {
   "cell_type": "code",
   "execution_count": null,
   "id": "578a8b8c",
   "metadata": {},
   "outputs": [],
   "source": [
    "first_name='Pushpa'\n",
    "last_name='latha'"
   ]
  },
  {
   "cell_type": "code",
   "execution_count": null,
   "id": "0078ee9a",
   "metadata": {},
   "outputs": [],
   "source": [
    "print('the first name is:',first_name,'\\n the last name is:',last_name)"
   ]
  },
  {
   "cell_type": "code",
   "execution_count": null,
   "id": "0e138bd4",
   "metadata": {},
   "outputs": [],
   "source": [
    "print('the first name is:',first_name,'\\t the last name is:',last_name)"
   ]
  },
  {
   "cell_type": "code",
   "execution_count": null,
   "id": "6f872819",
   "metadata": {},
   "outputs": [],
   "source": [
    "name='pushpa'\n",
    "age=21\n",
    "print('my name is:',name,'\\n and my age is:',age)"
   ]
  },
  {
   "cell_type": "markdown",
   "id": "b04fe8e4",
   "metadata": {},
   "source": [
    "# f string"
   ]
  },
  {
   "cell_type": "code",
   "execution_count": null,
   "id": "3f6f248b",
   "metadata": {},
   "outputs": [],
   "source": [
    "name='pushpa'\n",
    "age=21"
   ]
  },
  {
   "cell_type": "code",
   "execution_count": null,
   "id": "a722cda5",
   "metadata": {},
   "outputs": [],
   "source": [
    "f'My name is {name},and my age is {age}'"
   ]
  },
  {
   "cell_type": "code",
   "execution_count": null,
   "id": "79bf6134",
   "metadata": {},
   "outputs": [],
   "source": [
    "f\"name:{name},age:{age}\""
   ]
  },
  {
   "cell_type": "code",
   "execution_count": null,
   "id": "8ce3b034",
   "metadata": {},
   "outputs": [],
   "source": [
    "num1,num2=10,20"
   ]
  },
  {
   "cell_type": "code",
   "execution_count": null,
   "id": "9bd1de13",
   "metadata": {},
   "outputs": [],
   "source": [
    "num1"
   ]
  },
  {
   "cell_type": "code",
   "execution_count": null,
   "id": "680573ae",
   "metadata": {},
   "outputs": [],
   "source": [
    "num2"
   ]
  },
  {
   "cell_type": "code",
   "execution_count": null,
   "id": "ffcd0fe6",
   "metadata": {},
   "outputs": [],
   "source": [
    "f'first number:{num1}\\n and second number:{num2}'"
   ]
  },
  {
   "cell_type": "code",
   "execution_count": null,
   "id": "2425f6fc",
   "metadata": {},
   "outputs": [],
   "source": [
    "f'first number:{num1}\\t and second number:{num2}'"
   ]
  },
  {
   "cell_type": "code",
   "execution_count": null,
   "id": "b992f119",
   "metadata": {},
   "outputs": [],
   "source": [
    "print(f'first number:{num1}\\n and second number:{num2}')"
   ]
  },
  {
   "cell_type": "code",
   "execution_count": null,
   "id": "525a5c4c",
   "metadata": {},
   "outputs": [],
   "source": [
    "print(f'first number:{num1}\\t and second number:{num2}')"
   ]
  },
  {
   "cell_type": "code",
   "execution_count": null,
   "id": "78495fa7",
   "metadata": {},
   "outputs": [],
   "source": [
    "f'the product of {num1} and {num2} is {num1*num2}'"
   ]
  },
  {
   "cell_type": "code",
   "execution_count": null,
   "id": "341d967b",
   "metadata": {},
   "outputs": [],
   "source": [
    "print('num1:{name},age:{age}')"
   ]
  },
  {
   "cell_type": "code",
   "execution_count": null,
   "id": "2b029fbb",
   "metadata": {},
   "outputs": [],
   "source": [
    "f'name={name},age={age}'"
   ]
  },
  {
   "cell_type": "markdown",
   "id": "3947ace8",
   "metadata": {},
   "source": [
    "### Print your address"
   ]
  },
  {
   "cell_type": "code",
   "execution_count": null,
   "id": "c6ecc839",
   "metadata": {},
   "outputs": [],
   "source": [
    "house_num='1/100-A'\n",
    "name='Pushpaatha'\n",
    "street_name='Hell'\n",
    "city='Kurnool'\n",
    "state='Andhrapradesh'\n",
    "pincode=123456"
   ]
  },
  {
   "cell_type": "code",
   "execution_count": null,
   "id": "99c3b257",
   "metadata": {},
   "outputs": [],
   "source": [
    "print('house_num:',house_num,'\\n name:',name,'\\n street_name:',street_name,'\\n city:',city,'\\n state:',state,'\\n pincode:',pincode)"
   ]
  },
  {
   "cell_type": "code",
   "execution_count": null,
   "id": "12712802",
   "metadata": {},
   "outputs": [],
   "source": [
    "f'house_num:{house_num},name:{name},street_name:{street_name},city:{city},state:{state},pincode{pincode}'"
   ]
  },
  {
   "cell_type": "markdown",
   "id": "6da9eb78",
   "metadata": {},
   "source": [
    "### Simple Calculator"
   ]
  },
  {
   "cell_type": "code",
   "execution_count": null,
   "id": "aac9783b",
   "metadata": {},
   "outputs": [],
   "source": [
    "a=10\n",
    "b=20"
   ]
  },
  {
   "cell_type": "code",
   "execution_count": null,
   "id": "ed3e1f54",
   "metadata": {},
   "outputs": [],
   "source": [
    "print('addition:',a+b,'\\nsubstraction:',a-b,'\\nmultiplication:',a*b,'\\ndivision:',a/b,'\\nmodulus:',a%b,'\\nexponential:',a**b,'\\nquotient:',a//b)"
   ]
  },
  {
   "cell_type": "code",
   "execution_count": null,
   "id": "4a8119cf",
   "metadata": {},
   "outputs": [],
   "source": [
    "f'The value of {a} and {b} is add:{a+b},sub:{a-b},div:{a/b},mod:{a%b},expo:{a**b},quo:{a//b}'"
   ]
  },
  {
   "cell_type": "code",
   "execution_count": null,
   "id": "caba609c",
   "metadata": {},
   "outputs": [],
   "source": []
  }
 ],
 "metadata": {
  "kernelspec": {
   "display_name": "Python 3 (ipykernel)",
   "language": "python",
   "name": "python3"
  },
  "language_info": {
   "codemirror_mode": {
    "name": "ipython",
    "version": 3
   },
   "file_extension": ".py",
   "mimetype": "text/x-python",
   "name": "python",
   "nbconvert_exporter": "python",
   "pygments_lexer": "ipython3",
   "version": "3.11.5"
  }
 },
 "nbformat": 4,
 "nbformat_minor": 5
}
