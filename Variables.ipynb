{
 "cells": [
  {
   "cell_type": "markdown",
   "id": "732bb228",
   "metadata": {},
   "source": [
    "### Datatypes "
   ]
  },
  {
   "cell_type": "raw",
   "id": "23f2b689",
   "metadata": {},
   "source": [
    "Integer = 5,10,15\n",
    "Float   = 2.4,5.8\n",
    "Complex = 3+4j\n",
    "Boolean = True,False\n",
    "String  = 'Hello'\n",
    "List    = [1,2,3+4j,'hello',True]\n",
    "Tuple   = (1,2.5,'python',False)\n",
    "Set     = {1,2,3.5,'World',True}\n",
    "Dictionary = {1:'Hi',2:'Hello'}"
   ]
  },
  {
   "cell_type": "markdown",
   "id": "a24e55d5",
   "metadata": {},
   "source": [
    "# Variables"
   ]
  },
  {
   "cell_type": "code",
   "execution_count": 1,
   "id": "cb5c1a46",
   "metadata": {},
   "outputs": [],
   "source": [
    "a=100"
   ]
  },
  {
   "cell_type": "code",
   "execution_count": 2,
   "id": "50237938",
   "metadata": {},
   "outputs": [
    {
     "data": {
      "text/plain": [
       "int"
      ]
     },
     "execution_count": 2,
     "metadata": {},
     "output_type": "execute_result"
    }
   ],
   "source": [
    "type(a)"
   ]
  },
  {
   "cell_type": "code",
   "execution_count": 5,
   "id": "3367d7a0",
   "metadata": {},
   "outputs": [],
   "source": [
    "b=15.67"
   ]
  },
  {
   "cell_type": "code",
   "execution_count": 6,
   "id": "55b919fc",
   "metadata": {},
   "outputs": [
    {
     "data": {
      "text/plain": [
       "float"
      ]
     },
     "execution_count": 6,
     "metadata": {},
     "output_type": "execute_result"
    }
   ],
   "source": [
    "type(b)"
   ]
  },
  {
   "cell_type": "code",
   "execution_count": 7,
   "id": "5e07c4e3",
   "metadata": {},
   "outputs": [],
   "source": [
    "c='Hello'"
   ]
  },
  {
   "cell_type": "code",
   "execution_count": 8,
   "id": "95a613d6",
   "metadata": {},
   "outputs": [
    {
     "data": {
      "text/plain": [
       "str"
      ]
     },
     "execution_count": 8,
     "metadata": {},
     "output_type": "execute_result"
    }
   ],
   "source": [
    "type(c)"
   ]
  },
  {
   "cell_type": "code",
   "execution_count": 9,
   "id": "0eec0199",
   "metadata": {},
   "outputs": [],
   "source": [
    "d=True"
   ]
  },
  {
   "cell_type": "code",
   "execution_count": 10,
   "id": "dc9f3f33",
   "metadata": {},
   "outputs": [
    {
     "data": {
      "text/plain": [
       "bool"
      ]
     },
     "execution_count": 10,
     "metadata": {},
     "output_type": "execute_result"
    }
   ],
   "source": [
    "type(d)"
   ]
  },
  {
   "cell_type": "code",
   "execution_count": 11,
   "id": "e5424379",
   "metadata": {},
   "outputs": [],
   "source": [
    "e='True'"
   ]
  },
  {
   "cell_type": "code",
   "execution_count": 12,
   "id": "e4d4ea87",
   "metadata": {},
   "outputs": [
    {
     "data": {
      "text/plain": [
       "str"
      ]
     },
     "execution_count": 12,
     "metadata": {},
     "output_type": "execute_result"
    }
   ],
   "source": [
    "type(e)"
   ]
  },
  {
   "cell_type": "code",
   "execution_count": 13,
   "id": "5818dcdc",
   "metadata": {},
   "outputs": [],
   "source": [
    "var={1,2,3}"
   ]
  },
  {
   "cell_type": "code",
   "execution_count": 14,
   "id": "d5ce1690",
   "metadata": {},
   "outputs": [
    {
     "data": {
      "text/plain": [
       "set"
      ]
     },
     "execution_count": 14,
     "metadata": {},
     "output_type": "execute_result"
    }
   ],
   "source": [
    "type(var)"
   ]
  },
  {
   "cell_type": "code",
   "execution_count": null,
   "id": "ef55bffb",
   "metadata": {},
   "outputs": [],
   "source": [
    "_dic"
   ]
  }
 ],
 "metadata": {
  "kernelspec": {
   "display_name": "Python 3 (ipykernel)",
   "language": "python",
   "name": "python3"
  },
  "language_info": {
   "codemirror_mode": {
    "name": "ipython",
    "version": 3
   },
   "file_extension": ".py",
   "mimetype": "text/x-python",
   "name": "python",
   "nbconvert_exporter": "python",
   "pygments_lexer": "ipython3",
   "version": "3.11.5"
  }
 },
 "nbformat": 4,
 "nbformat_minor": 5
}
