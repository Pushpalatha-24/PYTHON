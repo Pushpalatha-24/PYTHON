{
 "cells": [
  {
   "cell_type": "markdown",
   "id": "051e83c9",
   "metadata": {},
   "source": [
    "# Arithmetic Operators"
   ]
  },
  {
   "cell_type": "raw",
   "id": "c2dc9535",
   "metadata": {},
   "source": [
    "Addition(+)\n",
    "Substraction(-)\n",
    "Multiplication(*)\n",
    "Division(/)\n",
    "Exponential(**)\n",
    "Quotient(//)\n",
    "Modulus(%)"
   ]
  },
  {
   "cell_type": "markdown",
   "id": "fab0b360",
   "metadata": {},
   "source": [
    "### Addition"
   ]
  },
  {
   "cell_type": "code",
   "execution_count": 1,
   "id": "a2654b04",
   "metadata": {},
   "outputs": [
    {
     "name": "stdout",
     "output_type": "stream",
     "text": [
      "450\n"
     ]
    }
   ],
   "source": [
    "a=100\n",
    "b=350\n",
    "c=a+b\n",
    "print(c)"
   ]
  },
  {
   "cell_type": "code",
   "execution_count": 2,
   "id": "bd33d9d9",
   "metadata": {},
   "outputs": [
    {
     "name": "stdout",
     "output_type": "stream",
     "text": [
      "376\n"
     ]
    }
   ],
   "source": [
    "print(20+356)"
   ]
  },
  {
   "cell_type": "markdown",
   "id": "463d3101",
   "metadata": {},
   "source": [
    "### Substraction"
   ]
  },
  {
   "cell_type": "code",
   "execution_count": 3,
   "id": "f1b31892",
   "metadata": {},
   "outputs": [
    {
     "name": "stdout",
     "output_type": "stream",
     "text": [
      "200\n"
     ]
    }
   ],
   "source": [
    "a=500\n",
    "b=300\n",
    "c=a-b\n",
    "print(c)"
   ]
  },
  {
   "cell_type": "code",
   "execution_count": 4,
   "id": "ba36309d",
   "metadata": {},
   "outputs": [
    {
     "name": "stdout",
     "output_type": "stream",
     "text": [
      "-420\n"
     ]
    }
   ],
   "source": [
    "print(456-876)"
   ]
  },
  {
   "cell_type": "markdown",
   "id": "b7fc9823",
   "metadata": {},
   "source": [
    "### Multiplication"
   ]
  },
  {
   "cell_type": "code",
   "execution_count": 5,
   "id": "eb11025d",
   "metadata": {},
   "outputs": [
    {
     "name": "stdout",
     "output_type": "stream",
     "text": [
      "200\n"
     ]
    }
   ],
   "source": [
    "c=10\n",
    "d=20\n",
    "e=c*d\n",
    "print(e)"
   ]
  },
  {
   "cell_type": "markdown",
   "id": "6562455c",
   "metadata": {},
   "source": [
    "### Division"
   ]
  },
  {
   "cell_type": "code",
   "execution_count": 6,
   "id": "242106d1",
   "metadata": {},
   "outputs": [
    {
     "name": "stdout",
     "output_type": "stream",
     "text": [
      "100.0\n"
     ]
    }
   ],
   "source": [
    "print(500/5)"
   ]
  },
  {
   "cell_type": "code",
   "execution_count": 7,
   "id": "72a7e749",
   "metadata": {},
   "outputs": [
    {
     "data": {
      "text/plain": [
       "2.0"
      ]
     },
     "execution_count": 7,
     "metadata": {},
     "output_type": "execute_result"
    }
   ],
   "source": [
    "20/10"
   ]
  },
  {
   "cell_type": "markdown",
   "id": "875d410d",
   "metadata": {},
   "source": [
    "### Modulus"
   ]
  },
  {
   "cell_type": "code",
   "execution_count": 8,
   "id": "dbff2bcb",
   "metadata": {},
   "outputs": [
    {
     "name": "stdout",
     "output_type": "stream",
     "text": [
      "0\n"
     ]
    }
   ],
   "source": [
    "print(20%10)"
   ]
  },
  {
   "cell_type": "code",
   "execution_count": 9,
   "id": "d39ad56e",
   "metadata": {},
   "outputs": [
    {
     "name": "stdout",
     "output_type": "stream",
     "text": [
      "10\n"
     ]
    }
   ],
   "source": [
    "a=30\n",
    "b=20\n",
    "print(a%b)"
   ]
  },
  {
   "cell_type": "markdown",
   "id": "1bf2f8df",
   "metadata": {},
   "source": [
    "### Exponential"
   ]
  },
  {
   "cell_type": "code",
   "execution_count": 10,
   "id": "5a90040a",
   "metadata": {},
   "outputs": [
    {
     "data": {
      "text/plain": [
       "9"
      ]
     },
     "execution_count": 10,
     "metadata": {},
     "output_type": "execute_result"
    }
   ],
   "source": [
    "pow(3,2)"
   ]
  },
  {
   "cell_type": "code",
   "execution_count": 11,
   "id": "5c840f46",
   "metadata": {},
   "outputs": [
    {
     "name": "stdout",
     "output_type": "stream",
     "text": [
      "9\n"
     ]
    }
   ],
   "source": [
    "a=3\n",
    "b=2\n",
    "print(a**b)"
   ]
  },
  {
   "cell_type": "code",
   "execution_count": 12,
   "id": "cf1fd6a4",
   "metadata": {},
   "outputs": [
    {
     "data": {
      "text/plain": [
       "248832"
      ]
     },
     "execution_count": 12,
     "metadata": {},
     "output_type": "execute_result"
    }
   ],
   "source": [
    "12**5"
   ]
  },
  {
   "cell_type": "markdown",
   "id": "eeca9eaa",
   "metadata": {},
   "source": [
    "### Quotient"
   ]
  },
  {
   "cell_type": "code",
   "execution_count": 13,
   "id": "a4617611",
   "metadata": {},
   "outputs": [
    {
     "data": {
      "text/plain": [
       "3"
      ]
     },
     "execution_count": 13,
     "metadata": {},
     "output_type": "execute_result"
    }
   ],
   "source": [
    "10//3"
   ]
  },
  {
   "cell_type": "code",
   "execution_count": 14,
   "id": "3fe11d48",
   "metadata": {},
   "outputs": [
    {
     "name": "stdout",
     "output_type": "stream",
     "text": [
      "11\n"
     ]
    }
   ],
   "source": [
    "print(45//4)"
   ]
  },
  {
   "cell_type": "markdown",
   "id": "5a529ce2",
   "metadata": {},
   "source": [
    "# Assignment Operators"
   ]
  },
  {
   "cell_type": "raw",
   "id": "162b1189",
   "metadata": {},
   "source": [
    "Addition(x=5,x+=5,x=x+5)\n",
    "Substraction(x-=5,x=x-5)\n",
    "Multiplication(x*=5,x=x*5)\n",
    "Division(x/=5,x=x/5)\n",
    "Exponentiation(x**=5,x=x**5)\n",
    "Quotient(x//=5,x=x//5)\n",
    "Modulus(x%=5,x=x%5)\n"
   ]
  },
  {
   "cell_type": "markdown",
   "id": "2d70e4d0",
   "metadata": {},
   "source": [
    "### Addition"
   ]
  },
  {
   "cell_type": "code",
   "execution_count": 15,
   "id": "9ada65e7",
   "metadata": {},
   "outputs": [
    {
     "name": "stdout",
     "output_type": "stream",
     "text": [
      "15\n"
     ]
    }
   ],
   "source": [
    "num=10\n",
    "num+=5\n",
    "print(num)"
   ]
  },
  {
   "cell_type": "markdown",
   "id": "d98b06a7",
   "metadata": {},
   "source": [
    "### Substraction"
   ]
  },
  {
   "cell_type": "code",
   "execution_count": 16,
   "id": "baf98409",
   "metadata": {},
   "outputs": [
    {
     "name": "stdout",
     "output_type": "stream",
     "text": [
      "10\n"
     ]
    }
   ],
   "source": [
    "num=15\n",
    "num-=5\n",
    "print(num)"
   ]
  },
  {
   "cell_type": "markdown",
   "id": "2e3d6814",
   "metadata": {},
   "source": [
    "### Multiplication"
   ]
  },
  {
   "cell_type": "code",
   "execution_count": 17,
   "id": "a03c1286",
   "metadata": {},
   "outputs": [],
   "source": [
    "num=5\n",
    "num*=5\n",
    "print(num)"
   ]
  },
  {
   "cell_type": "markdown",
   "id": "c0550211",
   "metadata": {},
   "source": [
    "### Division"
   ]
  },
  {
   "cell_type": "code",
   "execution_count": 18,
   "id": "f2535748",
   "metadata": {},
   "outputs": [],
   "source": [
    "num=25\n",
    "num/=5\n",
    "print(num)"
   ]
  },
  {
   "cell_type": "markdown",
   "id": "89f8412c",
   "metadata": {},
   "source": [
    "### Exponential "
   ]
  },
  {
   "cell_type": "code",
   "execution_count": 19,
   "id": "d7bbc96f",
   "metadata": {},
   "outputs": [],
   "source": [
    "num=10\n",
    "num**=5\n",
    "print(num)"
   ]
  },
  {
   "cell_type": "markdown",
   "id": "ca7451ef",
   "metadata": {},
   "source": [
    "### Quotient"
   ]
  },
  {
   "cell_type": "code",
   "execution_count": 20,
   "id": "990b6ae5",
   "metadata": {},
   "outputs": [],
   "source": [
    "num=10\n",
    "num//=5\n",
    "print(num)"
   ]
  },
  {
   "cell_type": "markdown",
   "id": "310633ca",
   "metadata": {},
   "source": [
    "### Modulus"
   ]
  },
  {
   "cell_type": "code",
   "execution_count": 21,
   "id": "f45ef9de",
   "metadata": {},
   "outputs": [],
   "source": [
    "num=50\n",
    "num%=5\n",
    "print(num)\n"
   ]
  },
  {
   "cell_type": "markdown",
   "id": "d50b522e",
   "metadata": {},
   "source": [
    "# Relational Operators(Comparision Operators)"
   ]
  },
  {
   "cell_type": "raw",
   "id": "2c7474e2",
   "metadata": {},
   "source": [
    "Equal(==)\n",
    "Not Equal(!=)\n",
    "Greater Than(>)\n",
    "Less Than(<)\n",
    "Greater than or Equal to(>=)\n",
    "Less than or Equal to(<=)"
   ]
  },
  {
   "cell_type": "code",
   "execution_count": 22,
   "id": "37de71f1",
   "metadata": {},
   "outputs": [],
   "source": [
    "x=10\n",
    "y=5"
   ]
  },
  {
   "cell_type": "code",
   "execution_count": 23,
   "id": "997eaa20",
   "metadata": {},
   "outputs": [],
   "source": [
    "x==y"
   ]
  },
  {
   "cell_type": "code",
   "execution_count": 24,
   "id": "6b7044ac",
   "metadata": {},
   "outputs": [],
   "source": [
    "x!=y"
   ]
  },
  {
   "cell_type": "code",
   "execution_count": 25,
   "id": "694c771c",
   "metadata": {},
   "outputs": [],
   "source": [
    "x>y"
   ]
  },
  {
   "cell_type": "code",
   "execution_count": 26,
   "id": "13404888",
   "metadata": {},
   "outputs": [],
   "source": [
    "x<y"
   ]
  },
  {
   "cell_type": "code",
   "execution_count": 27,
   "id": "e535ebf9",
   "metadata": {},
   "outputs": [],
   "source": [
    "x>=y"
   ]
  },
  {
   "cell_type": "code",
   "execution_count": 28,
   "id": "fd912718",
   "metadata": {},
   "outputs": [],
   "source": [
    "x<=y"
   ]
  },
  {
   "cell_type": "markdown",
   "id": "4fdd2047",
   "metadata": {},
   "source": [
    "# Logical Operators"
   ]
  },
  {
   "cell_type": "raw",
   "id": "3c681d19",
   "metadata": {},
   "source": [
    "and (&)\n",
    "  True & True = True\n",
    "  True & False= False\n",
    "  False & True =False\n",
    "  False & False=False\n",
    "or (|)\n",
    "  True | True =True\n",
    "  True | False=True\n",
    "  False | True=True\n",
    "  False | False=False\n",
    "not(!=)\n",
    "  True = False\n",
    "  False= True"
   ]
  },
  {
   "cell_type": "markdown",
   "id": "11e36556",
   "metadata": {},
   "source": [
    "### And ( & )"
   ]
  },
  {
   "cell_type": "code",
   "execution_count": 29,
   "id": "98b54327",
   "metadata": {},
   "outputs": [],
   "source": [
    "a=30\n",
    "b=10\n",
    "c=40"
   ]
  },
  {
   "cell_type": "code",
   "execution_count": 30,
   "id": "95cde735",
   "metadata": {},
   "outputs": [],
   "source": [
    "(a>b)&(b<c)"
   ]
  },
  {
   "cell_type": "code",
   "execution_count": 31,
   "id": "d2acbc7b",
   "metadata": {},
   "outputs": [],
   "source": [
    "(a<c)&(a<b)"
   ]
  },
  {
   "cell_type": "code",
   "execution_count": 32,
   "id": "592d4993",
   "metadata": {},
   "outputs": [],
   "source": [
    "(a==b)&(b<c)"
   ]
  },
  {
   "cell_type": "code",
   "execution_count": 33,
   "id": "00fc3f22",
   "metadata": {},
   "outputs": [],
   "source": [
    "(a==b)&(b==c)"
   ]
  },
  {
   "cell_type": "markdown",
   "id": "988fceea",
   "metadata": {},
   "source": [
    "### or ( | )"
   ]
  },
  {
   "cell_type": "code",
   "execution_count": 34,
   "id": "9050341c",
   "metadata": {},
   "outputs": [],
   "source": [
    "a,b,c=10,20,30"
   ]
  },
  {
   "cell_type": "code",
   "execution_count": 35,
   "id": "e76e02f6",
   "metadata": {},
   "outputs": [],
   "source": [
    "(a>b)|(a<b)"
   ]
  },
  {
   "cell_type": "code",
   "execution_count": 36,
   "id": "53fbcb97",
   "metadata": {},
   "outputs": [],
   "source": [
    "(a==b)|(b==c)"
   ]
  },
  {
   "cell_type": "code",
   "execution_count": 37,
   "id": "d443965a",
   "metadata": {},
   "outputs": [],
   "source": [
    "(a<b)|(b>c)"
   ]
  },
  {
   "cell_type": "code",
   "execution_count": 38,
   "id": "5e2cec8b",
   "metadata": {},
   "outputs": [],
   "source": [
    "(a<b)or(b>c)"
   ]
  },
  {
   "cell_type": "markdown",
   "id": "8b6ae2a1",
   "metadata": {},
   "source": [
    "### Not ( != )"
   ]
  },
  {
   "cell_type": "code",
   "execution_count": 39,
   "id": "605d5e17",
   "metadata": {},
   "outputs": [],
   "source": [
    "a=20"
   ]
  },
  {
   "cell_type": "code",
   "execution_count": 40,
   "id": "70e38140",
   "metadata": {},
   "outputs": [],
   "source": [
    "not(a<100)"
   ]
  },
  {
   "cell_type": "code",
   "execution_count": 41,
   "id": "870759e2",
   "metadata": {},
   "outputs": [],
   "source": [
    "not(a>100)"
   ]
  },
  {
   "cell_type": "markdown",
   "id": "e87fd85e",
   "metadata": {},
   "source": [
    "# Membership Operator"
   ]
  },
  {
   "cell_type": "markdown",
   "id": "37879abe",
   "metadata": {},
   "source": [
    "### In and Not In Operator"
   ]
  },
  {
   "cell_type": "code",
   "execution_count": 42,
   "id": "8658bf89",
   "metadata": {},
   "outputs": [],
   "source": [
    "sp='pushpa has scored 80,90,100 in maths,science and physics'"
   ]
  },
  {
   "cell_type": "code",
   "execution_count": 43,
   "id": "1f1f9e3c",
   "metadata": {},
   "outputs": [],
   "source": [
    "'80' in sp"
   ]
  },
  {
   "cell_type": "code",
   "execution_count": 44,
   "id": "82442ddb",
   "metadata": {},
   "outputs": [],
   "source": [
    "'science' not in sp"
   ]
  },
  {
   "cell_type": "code",
   "execution_count": 45,
   "id": "668c2e1e",
   "metadata": {},
   "outputs": [],
   "source": [
    "'70' in sp"
   ]
  },
  {
   "cell_type": "markdown",
   "id": "164bdf7f",
   "metadata": {},
   "source": [
    "# Identity Operator"
   ]
  },
  {
   "cell_type": "raw",
   "id": "8af892d6",
   "metadata": {},
   "source": [
    "is and is not"
   ]
  },
  {
   "cell_type": "code",
   "execution_count": 46,
   "id": "87b8133f",
   "metadata": {},
   "outputs": [],
   "source": [
    "x=[1,2,3]\n",
    "y=[1,2,3]\n",
    "z=x"
   ]
  },
  {
   "cell_type": "code",
   "execution_count": 47,
   "id": "36bb6a26",
   "metadata": {},
   "outputs": [],
   "source": [
    "print(x is y)"
   ]
  },
  {
   "cell_type": "code",
   "execution_count": null,
   "id": "3fd0a15c",
   "metadata": {},
   "outputs": [],
   "source": [
    "print(y is not x)"
   ]
  },
  {
   "cell_type": "code",
   "execution_count": null,
   "id": "b0a36b62",
   "metadata": {},
   "outputs": [],
   "source": [
    "print(z is not x )"
   ]
  },
  {
   "cell_type": "code",
   "execution_count": null,
   "id": "bc09d226",
   "metadata": {},
   "outputs": [],
   "source": [
    "print(z is x)"
   ]
  },
  {
   "cell_type": "markdown",
   "id": "90dda23d",
   "metadata": {},
   "source": [
    "# Bitwise Operators"
   ]
  },
  {
   "cell_type": "raw",
   "id": "e999c96e",
   "metadata": {},
   "source": [
    "and (&)\n",
    "or(|)\n",
    "XOR (^)\n",
    "left shift(<<)\n",
    "right shift (>>)"
   ]
  },
  {
   "cell_type": "code",
   "execution_count": null,
   "id": "d589647e",
   "metadata": {},
   "outputs": [],
   "source": []
  }
 ],
 "metadata": {
  "kernelspec": {
   "display_name": "Python 3 (ipykernel)",
   "language": "python",
   "name": "python3"
  },
  "language_info": {
   "codemirror_mode": {
    "name": "ipython",
    "version": 3
   },
   "file_extension": ".py",
   "mimetype": "text/x-python",
   "name": "python",
   "nbconvert_exporter": "python",
   "pygments_lexer": "ipython3",
   "version": "3.11.5"
  }
 },
 "nbformat": 4,
 "nbformat_minor": 5
}
