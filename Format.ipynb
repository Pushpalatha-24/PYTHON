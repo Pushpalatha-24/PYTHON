{
 "cells": [
  {
   "cell_type": "raw",
   "id": "ae18a2b8",
   "metadata": {},
   "source": [
    "0  1  2  3  4  5  6\n",
    "10 20 30 40 50 60 70\n",
    "-7 -6 -5 -4 -3 -2 -1"
   ]
  },
  {
   "cell_type": "code",
   "execution_count": 1,
   "id": "31aaa9b0",
   "metadata": {},
   "outputs": [],
   "source": [
    "x,y=10,40"
   ]
  },
  {
   "cell_type": "code",
   "execution_count": 2,
   "id": "dfb797ad",
   "metadata": {},
   "outputs": [
    {
     "name": "stdout",
     "output_type": "stream",
     "text": [
      "Urvi is 10 years old and his father is 40 years old\n"
     ]
    }
   ],
   "source": [
    "print('Urvi is',x,'years old and his father is',y,'years old')"
   ]
  },
  {
   "cell_type": "code",
   "execution_count": 3,
   "id": "9b289f81",
   "metadata": {},
   "outputs": [
    {
     "name": "stdout",
     "output_type": "stream",
     "text": [
      "ram is {x} years old and his father is {y} years old\n"
     ]
    }
   ],
   "source": [
    "print('ram is {x} years old and his father is {y} years old')"
   ]
  },
  {
   "cell_type": "code",
   "execution_count": 4,
   "id": "1aaa78dc",
   "metadata": {},
   "outputs": [
    {
     "name": "stdout",
     "output_type": "stream",
     "text": [
      "Urvi is 10 years old and his father is 40 years old\n"
     ]
    }
   ],
   "source": [
    "print('Urvi is {x} years old and his father is {y} years old'.format(x=10,y=40))"
   ]
  },
  {
   "cell_type": "code",
   "execution_count": 5,
   "id": "54e665ec",
   "metadata": {},
   "outputs": [
    {
     "name": "stdout",
     "output_type": "stream",
     "text": [
      "ram is 10 years old and his father is 40 years old\n"
     ]
    }
   ],
   "source": [
    "print('ram is {0} years old and his father is {4} years old'.format(10,15,35,50,40))"
   ]
  },
  {
   "cell_type": "code",
   "execution_count": null,
   "id": "d954a093",
   "metadata": {},
   "outputs": [],
   "source": []
  }
 ],
 "metadata": {
  "kernelspec": {
   "display_name": "Python 3 (ipykernel)",
   "language": "python",
   "name": "python3"
  },
  "language_info": {
   "codemirror_mode": {
    "name": "ipython",
    "version": 3
   },
   "file_extension": ".py",
   "mimetype": "text/x-python",
   "name": "python",
   "nbconvert_exporter": "python",
   "pygments_lexer": "ipython3",
   "version": "3.11.5"
  }
 },
 "nbformat": 4,
 "nbformat_minor": 5
}
